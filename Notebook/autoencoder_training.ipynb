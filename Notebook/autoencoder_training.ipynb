{
  "cells": [
    {
      "cell_type": "markdown",
      "metadata": {
        "id": "b6ZV5PSJfcqm"
      },
      "source": [
        "**assianment 4**"
      ]
    },
    {
      "cell_type": "code",
      "execution_count": 2,
      "metadata": {
        "id": "fQDZ5OJhfcqo"
      },
      "outputs": [],
      "source": [
        "import torch\n",
        "import torch.nn as nn\n",
        "import torch.optim as optim\n",
        "from torchvision import datasets, transforms\n",
        "from skimage.metrics import structural_similarity as ssim, peak_signal_noise_ratio as psnr\n",
        "import numpy as np\n",
        "import matplotlib.pyplot as plt"
      ]
    },
    {
      "cell_type": "markdown",
      "metadata": {
        "id": "0G8_Tpt6j3Rm"
      },
      "source": [
        "**Autoencoder Model**"
      ]
    },
    {
      "cell_type": "code",
      "execution_count": 6,
      "metadata": {
        "id": "XNkBTVMij0iK"
      },
      "outputs": [],
      "source": [
        "# Define the Autoencoder with two decoders\n",
        "class DualDecoderAutoencoder(nn.Module):\n",
        "    def __init__(self):\n",
        "        super(DualDecoderAutoencoder, self).__init__()\n",
        "\n",
        "        # Encoder\n",
        "        self.encoder = nn.Sequential(\n",
        "            nn.Conv2d(3, 64, kernel_size=4, stride=2, padding=1),  # [B, 3, 32, 32] -> [B, 64, 16, 16]\n",
        "            nn.ReLU(True),\n",
        "            nn.Conv2d(64, 128, kernel_size=4, stride=2, padding=1), # [B, 64, 16, 16] -> [B, 128, 8, 8]\n",
        "            nn.ReLU(True),\n",
        "            nn.Conv2d(128, 256, kernel_size=4, stride=2, padding=1), # [B, 128, 8, 8] -> [B, 256, 4, 4]\n",
        "            nn.ReLU(True),\n",
        "            nn.Flatten(), # [B, 256, 4, 4] -> [B, 256*4*4]\n",
        "            nn.Linear(256*4*4, 512),  # [B, 256*4*4] -> [B, 512]\n",
        "            nn.ReLU(True)\n",
        "        )\n",
        "\n",
        "        # Decoder for MNIST\n",
        "        self.decoder_mnist = nn.Sequential(\n",
        "            nn.Linear(512, 256*4*4),  # [B, 512] -> [B, 256*4*4]\n",
        "            nn.ReLU(True),\n",
        "            nn.Unflatten(1, (256, 4, 4)),  # [B, 256*4*4] -> [B, 256, 4, 4]\n",
        "            nn.ConvTranspose2d(256, 128, kernel_size=4, stride=2, padding=1),  # [B, 256, 4, 4] -> [B, 128, 8, 8]\n",
        "            nn.ReLU(True),\n",
        "            nn.ConvTranspose2d(128, 64, kernel_size=4, stride=2, padding=1),  # [B, 128, 8, 8] -> [B, 64, 16, 16]\n",
        "            nn.ReLU(True),\n",
        "            nn.ConvTranspose2d(64, 3, kernel_size=4, stride=2, padding=1),  # [B, 64, 16, 16] -> [B, 3, 32, 32]\n",
        "            nn.Sigmoid()  # Sigmoid to output values between 0 and 1 for MNIST\n",
        "        )\n",
        "\n",
        "        # Decoder for CIFAR-10\n",
        "        self.decoder_cifar = nn.Sequential(\n",
        "            nn.Linear(512, 256*4*4),  # [B, 512] -> [B, 256*4*4]\n",
        "            nn.ReLU(True),\n",
        "            nn.Unflatten(1, (256, 4, 4)),  # [B, 256*4*4] -> [B, 256, 4, 4]\n",
        "            nn.ConvTranspose2d(256, 128, kernel_size=4, stride=2, padding=1),  # [B, 256, 4, 4] -> [B, 128, 8, 8]\n",
        "            nn.ReLU(True),\n",
        "            nn.ConvTranspose2d(128, 64, kernel_size=4, stride=2, padding=1),  # [B, 128, 8, 8] -> [B, 64, 16, 16]\n",
        "            nn.ReLU(True),\n",
        "            nn.ConvTranspose2d(64, 3, kernel_size=4, stride=2, padding=1),  # [B, 64, 16, 16] -> [B, 3, 32, 32]\n",
        "            nn.Sigmoid()  # Sigmoid to output values between 0 and 1 for CIFAR-10\n",
        "        )\n",
        "\n",
        "    def forward(self, x):\n",
        "        encoded = self.encoder(x)\n",
        "        decoded_mnist = self.decoder_mnist(encoded)\n",
        "        decoded_cifar = self.decoder_cifar(encoded)\n",
        "        return decoded_mnist, decoded_cifar\n"
      ]
    },
    {
      "cell_type": "markdown",
      "metadata": {
        "id": "JdoZxxZskA-M"
      },
      "source": [
        " Loss Function, and Optimizer"
      ]
    },
    {
      "cell_type": "code",
      "execution_count": 7,
      "metadata": {
        "id": "YLcURU33kF20"
      },
      "outputs": [],
      "source": [
        "# Instantiate the model, loss function, and optimizer\n",
        "autoencoder = DualDecoderAutoencoder()\n",
        "criterion = nn.MSELoss()\n",
        "optimizer = optim.Adam(autoencoder.parameters(), lr=0.001)"
      ]
    },
    {
      "cell_type": "markdown",
      "metadata": {
        "id": "loFzLcAskIjf"
      },
      "source": [
        "Transforms for MNIST and CIFAR-10"
      ]
    },
    {
      "cell_type": "code",
      "execution_count": 8,
      "metadata": {
        "id": "dYK-kaFckMUG"
      },
      "outputs": [],
      "source": [
        "# Define the transforms for MNIST and CIFAR-10 datasets\n",
        "transform_mnist = transforms.Compose([\n",
        "    transforms.Resize((32, 32)),  # Resize MNIST images to match CIFAR-10 shape\n",
        "    transforms.ToTensor(),\n",
        "    # transforms.Normalize((0.5,), (0.5,)),  # Normalize MNIST images\n",
        "    transforms.Lambda(lambda x: x.expand(3, -1, -1))  # Expand the single channel to make it three channels\n",
        "])\n",
        "\n",
        "transform_cifar = transforms.Compose([\n",
        "    transforms.ToTensor(),\n",
        "    # transforms.Normalize((0.5, 0.5, 0.5), (0.5, 0.5, 0.5))  # Normalize CIFAR-10 images\n",
        "])"
      ]
    },
    {
      "cell_type": "markdown",
      "metadata": {
        "id": "YnqCGJjTkQi6"
      },
      "source": [
        "**Loading Datasets**"
      ]
    },
    {
      "cell_type": "code",
      "execution_count": 9,
      "metadata": {
        "colab": {
          "base_uri": "https://localhost:8080/"
        },
        "id": "utty7oyVkXoj",
        "outputId": "2a2d925a-e999-4d15-ab57-6d3620afc6ef"
      },
      "outputs": [
        {
          "output_type": "stream",
          "name": "stdout",
          "text": [
            "Downloading http://yann.lecun.com/exdb/mnist/train-images-idx3-ubyte.gz\n",
            "Failed to download (trying next):\n",
            "HTTP Error 403: Forbidden\n",
            "\n",
            "Downloading https://ossci-datasets.s3.amazonaws.com/mnist/train-images-idx3-ubyte.gz\n",
            "Downloading https://ossci-datasets.s3.amazonaws.com/mnist/train-images-idx3-ubyte.gz to ./data/MNIST/raw/train-images-idx3-ubyte.gz\n"
          ]
        },
        {
          "output_type": "stream",
          "name": "stderr",
          "text": [
            "100%|██████████| 9912422/9912422 [00:00<00:00, 75898556.44it/s]\n"
          ]
        },
        {
          "output_type": "stream",
          "name": "stdout",
          "text": [
            "Extracting ./data/MNIST/raw/train-images-idx3-ubyte.gz to ./data/MNIST/raw\n",
            "\n",
            "Downloading http://yann.lecun.com/exdb/mnist/train-labels-idx1-ubyte.gz\n",
            "Failed to download (trying next):\n",
            "HTTP Error 403: Forbidden\n",
            "\n",
            "Downloading https://ossci-datasets.s3.amazonaws.com/mnist/train-labels-idx1-ubyte.gz\n",
            "Downloading https://ossci-datasets.s3.amazonaws.com/mnist/train-labels-idx1-ubyte.gz to ./data/MNIST/raw/train-labels-idx1-ubyte.gz\n"
          ]
        },
        {
          "output_type": "stream",
          "name": "stderr",
          "text": [
            "100%|██████████| 28881/28881 [00:00<00:00, 33034004.32it/s]"
          ]
        },
        {
          "output_type": "stream",
          "name": "stdout",
          "text": [
            "Extracting ./data/MNIST/raw/train-labels-idx1-ubyte.gz to ./data/MNIST/raw\n",
            "\n",
            "Downloading http://yann.lecun.com/exdb/mnist/t10k-images-idx3-ubyte.gz\n",
            "Failed to download (trying next):\n",
            "HTTP Error 403: Forbidden\n",
            "\n",
            "Downloading https://ossci-datasets.s3.amazonaws.com/mnist/t10k-images-idx3-ubyte.gz\n",
            "Downloading https://ossci-datasets.s3.amazonaws.com/mnist/t10k-images-idx3-ubyte.gz to ./data/MNIST/raw/t10k-images-idx3-ubyte.gz\n"
          ]
        },
        {
          "output_type": "stream",
          "name": "stderr",
          "text": [
            "\n",
            "100%|██████████| 1648877/1648877 [00:00<00:00, 35788759.15it/s]\n"
          ]
        },
        {
          "output_type": "stream",
          "name": "stdout",
          "text": [
            "Extracting ./data/MNIST/raw/t10k-images-idx3-ubyte.gz to ./data/MNIST/raw\n",
            "\n",
            "Downloading http://yann.lecun.com/exdb/mnist/t10k-labels-idx1-ubyte.gz\n",
            "Failed to download (trying next):\n",
            "HTTP Error 403: Forbidden\n",
            "\n",
            "Downloading https://ossci-datasets.s3.amazonaws.com/mnist/t10k-labels-idx1-ubyte.gz\n",
            "Downloading https://ossci-datasets.s3.amazonaws.com/mnist/t10k-labels-idx1-ubyte.gz to ./data/MNIST/raw/t10k-labels-idx1-ubyte.gz\n"
          ]
        },
        {
          "output_type": "stream",
          "name": "stderr",
          "text": [
            "100%|██████████| 4542/4542 [00:00<00:00, 1689625.61it/s]\n"
          ]
        },
        {
          "output_type": "stream",
          "name": "stdout",
          "text": [
            "Extracting ./data/MNIST/raw/t10k-labels-idx1-ubyte.gz to ./data/MNIST/raw\n",
            "\n",
            "Downloading https://www.cs.toronto.edu/~kriz/cifar-10-python.tar.gz to ./data/cifar-10-python.tar.gz\n"
          ]
        },
        {
          "output_type": "stream",
          "name": "stderr",
          "text": [
            "100%|██████████| 170498071/170498071 [00:02<00:00, 82444570.42it/s]\n"
          ]
        },
        {
          "output_type": "stream",
          "name": "stdout",
          "text": [
            "Extracting ./data/cifar-10-python.tar.gz to ./data\n"
          ]
        }
      ],
      "source": [
        "# Load the MNIST and CIFAR-10 datasets\n",
        "mnist_dataset = datasets.MNIST(root='./data', train=True, download=True, transform=transform_mnist)\n",
        "cifar_dataset = datasets.CIFAR10(root='./data', train=True, download=True, transform=transform_cifar)\n",
        "\n",
        "# Ensure both DataLoaders have the same batch size\n",
        "batch_size = 64\n",
        "\n",
        "# DataLoader\n",
        "mnist_loader = torch.utils.data.DataLoader(mnist_dataset, batch_size=batch_size, shuffle=True)\n",
        "cifar_loader = torch.utils.data.DataLoader(cifar_dataset, batch_size=batch_size, shuffle=True)"
      ]
    },
    {
      "cell_type": "markdown",
      "metadata": {
        "id": "JR1P69XckiFk"
      },
      "source": [
        "**Training Loop**"
      ]
    },
    {
      "cell_type": "code",
      "execution_count": 6,
      "metadata": {
        "colab": {
          "base_uri": "https://localhost:8080/"
        },
        "id": "67UimhEGkn29",
        "outputId": "572906d4-a3c3-4d0c-d79e-12fc8a2a69a3"
      },
      "outputs": [
        {
          "output_type": "stream",
          "name": "stdout",
          "text": [
            "Epoch [1/10], Loss: 0.0321\n",
            "Epoch [2/10], Loss: 0.0217\n",
            "Epoch [3/10], Loss: 0.0187\n",
            "Epoch [4/10], Loss: 0.0170\n",
            "Epoch [5/10], Loss: 0.0163\n",
            "Epoch [6/10], Loss: 0.0149\n",
            "Epoch [7/10], Loss: 0.0159\n",
            "Epoch [8/10], Loss: 0.0131\n",
            "Epoch [9/10], Loss: 0.0125\n",
            "Epoch [10/10], Loss: 0.0123\n"
          ]
        }
      ],
      "source": [
        "# Training loop\n",
        "num_epochs = 10\n",
        "for epoch in range(num_epochs):\n",
        "    for (mnist_images, _), (cifar_images, _) in zip(mnist_loader, cifar_loader):\n",
        "        if mnist_images.size(0) != cifar_images.size(0):\n",
        "            continue  # Skip batches with unequal sizes\n",
        "        # Compute the mean of the MNIST and CIFAR-10 images\n",
        "        mean_images = (mnist_images + cifar_images) / 2\n",
        "\n",
        "        # Forward pass\n",
        "        reconstructed_mnist, reconstructed_cifar = autoencoder(mean_images)\n",
        "\n",
        "        # Compute loss\n",
        "        loss_mnist = criterion(reconstructed_mnist, mnist_images)\n",
        "        loss_cifar = criterion(reconstructed_cifar, cifar_images)\n",
        "        loss = loss_mnist + loss_cifar\n",
        "\n",
        "        # Backward pass and optimization\n",
        "        optimizer.zero_grad()\n",
        "        loss.backward()\n",
        "        optimizer.step()\n",
        "\n",
        "    print(f\"Epoch [{epoch+1}/{num_epochs}], Loss: {loss.item():.4f}\")"
      ]
    },
    {
      "cell_type": "markdown",
      "metadata": {
        "id": "uB_rEoTkkvG6"
      },
      "source": [
        "Function to Display Images"
      ]
    },
    {
      "cell_type": "code",
      "execution_count": 10,
      "metadata": {
        "id": "IN5A0kI5k7Ds"
      },
      "outputs": [],
      "source": [
        "# Function to display images\n",
        "def imshow(img, title=None):\n",
        "    npimg = img.numpy()\n",
        "    plt.imshow(np.transpose(npimg, (1, 2, 0)))\n",
        "    if title is not None:\n",
        "        plt.title(title)\n",
        "    plt.show()"
      ]
    },
    {
      "cell_type": "markdown",
      "metadata": {
        "id": "5LLQ_YV0k9kp"
      },
      "source": [
        "Getting Random Images"
      ]
    },
    {
      "cell_type": "code",
      "execution_count": 11,
      "metadata": {
        "id": "EItoh7jllEfi"
      },
      "outputs": [],
      "source": [
        "# Get random images\n",
        "def get_random_images(mnist_dataset, cifar_dataset):\n",
        "    mnist_image, _ = mnist_dataset[np.random.randint(len(mnist_dataset))]\n",
        "    cifar_image, _ = cifar_dataset[np.random.randint(len(cifar_dataset))]\n",
        "    return mnist_image, cifar_image"
      ]
    },
    {
      "cell_type": "markdown",
      "metadata": {
        "id": "QA13USvklHdc"
      },
      "source": [
        "the Mean Image"
      ]
    },
    {
      "cell_type": "code",
      "execution_count": 12,
      "metadata": {
        "id": "G1Tr1cn0lOmq"
      },
      "outputs": [],
      "source": [
        "mnist_image, cifar_image = get_random_images(mnist_dataset, cifar_dataset)\n",
        "\n",
        "# Compute the mean image\n",
        "mean_image = (mnist_image + cifar_image) / 2\n",
        "\n",
        "# Ensure the mean image is in the correct format\n",
        "mean_image_input = mean_image.unsqueeze(0)  # Add batch dimension"
      ]
    },
    {
      "cell_type": "markdown",
      "metadata": {
        "id": "aTnaWNpJlSlw"
      },
      "source": [
        "Reconstruction"
      ]
    },
    {
      "cell_type": "code",
      "execution_count": 13,
      "metadata": {
        "id": "vuwJpv-8laue",
        "colab": {
          "base_uri": "https://localhost:8080/"
        },
        "outputId": "495b458c-1238-4e32-fc92-488ab4987258"
      },
      "outputs": [
        {
          "output_type": "stream",
          "name": "stdout",
          "text": [
            "Reconstructed MNIST Image shape: torch.Size([1, 3, 32, 32])\n",
            "Reconstructed CIFAR-10 Image shape: torch.Size([1, 3, 32, 32])\n"
          ]
        }
      ],
      "source": [
        "# Get the reconstruction from the autoencoder\n",
        "with torch.no_grad():\n",
        "    reconstructed_mnist, reconstructed_cifar = autoencoder(mean_image_input)\n",
        "\n",
        "# Ensure the shapes are consistent\n",
        "print(\"Reconstructed MNIST Image shape:\", reconstructed_mnist.shape)\n",
        "print(\"Reconstructed CIFAR-10 Image shape:\", reconstructed_cifar.shape)\n",
        "\n",
        "# Remove the batch dimension\n",
        "reconstructed_mnist = reconstructed_mnist.squeeze(0)\n",
        "reconstructed_cifar = reconstructed_cifar.squeeze(0)\n"
      ]
    },
    {
      "cell_type": "markdown",
      "metadata": {
        "id": "-wJKDt-MldvP"
      },
      "source": [
        "Displaying"
      ]
    },
    {
      "cell_type": "code",
      "execution_count": 11,
      "metadata": {
        "id": "yHB84wmolfh0",
        "colab": {
          "base_uri": "https://localhost:8080/",
          "height": 1000
        },
        "outputId": "205dc866-a3fa-4808-95c8-a85f9160978f"
      },
      "outputs": [
        {
          "output_type": "stream",
          "name": "stdout",
          "text": [
            "Mean Image:\n"
          ]
        },
        {
          "output_type": "display_data",
          "data": {
            "text/plain": [
              "<Figure size 640x480 with 1 Axes>"
            ],
            "image/png": "[encoded data removed]"
          },
          "metadata": {}
        },
        {
          "output_type": "stream",
          "name": "stdout",
          "text": [
            "Reconstructed MNIST Image:\n"
          ]
        },
        {
          "output_type": "display_data",
          "data": {
            "text/plain": [
              "<Figure size 640x480 with 1 Axes>"
            ],
            "image/png": "[encoded data removed]"
          },
          "metadata": {}
        },
        {
          "output_type": "stream",
          "name": "stdout",
          "text": [
            "Reconstructed CIFAR-10 Image:\n"
          ]
        },
        {
          "output_type": "display_data",
          "data": {
            "text/plain": [
              "<Figure size 640x480 with 1 Axes>"
            ],
            "image/png": "[encoded data removed]"
          },
          "metadata": {}
        }
      ],
      "source": [
        "# Display the mean image and its reconstruction\n",
        "print(\"Mean Image:\")\n",
        "imshow(mean_image, \"Mean Image\")\n",
        "\n",
        "print(\"Reconstructed MNIST Image:\")\n",
        "imshow(reconstructed_mnist, \"Reconstructed MNIST Image\")\n",
        "\n",
        "print(\"Reconstructed CIFAR-10 Image:\")\n",
        "imshow(reconstructed_cifar, \"Reconstructed CIFAR-10 Image\")"
      ]
    },
    {
      "cell_type": "markdown",
      "metadata": {
        "id": "fFQJLdNpliX3"
      },
      "source": [
        "**Autoencoder**"
      ]
    },
    {
      "cell_type": "code",
      "execution_count": 14,
      "metadata": {
        "id": "td5_fDjbfcqr"
      },
      "outputs": [],
      "source": [
        "# Define the Autoencoder with two decoders\n",
        "class DualDecoderAutoencoder(nn.Module):\n",
        "    def __init__(self):\n",
        "        super(DualDecoderAutoencoder, self).__init__()\n",
        "\n",
        "        # Encoder\n",
        "        self.encoder = nn.Sequential(\n",
        "            nn.Conv2d(3, 64, kernel_size=4, stride=2, padding=1),  # [B, 3, 32, 32] -> [B, 64, 16, 16]\n",
        "            nn.ReLU(True),\n",
        "            nn.Conv2d(64, 128, kernel_size=4, stride=2, padding=1), # [B, 64, 16, 16] -> [B, 128, 8, 8]\n",
        "            nn.ReLU(True),\n",
        "            nn.Conv2d(128, 256, kernel_size=4, stride=2, padding=1), # [B, 128, 8, 8] -> [B, 256, 4, 4]\n",
        "            nn.ReLU(True),\n",
        "            nn.Flatten(), # [B, 256, 4, 4] -> [B, 256*4*4]\n",
        "            nn.Linear(256*4*4, 512),  # [B, 256*4*4] -> [B, 512]\n",
        "            nn.ReLU(True)\n",
        "        )\n",
        "\n",
        "        # Decoder for MNIST\n",
        "        self.decoder_mnist = nn.Sequential(\n",
        "            nn.Linear(512, 256*4*4),  # [B, 512] -> [B, 256*4*4]\n",
        "            nn.ReLU(True),\n",
        "            nn.Unflatten(1, (256, 4, 4)),  # [B, 256*4*4] -> [B, 256, 4, 4]\n",
        "            nn.ConvTranspose2d(256, 128, kernel_size=4, stride=2, padding=1),  # [B, 256, 4, 4] -> [B, 128, 8, 8]\n",
        "            nn.ReLU(True),\n",
        "            nn.ConvTranspose2d(128, 64, kernel_size=4, stride=2, padding=1),  # [B, 128, 8, 8] -> [B, 64, 16, 16]\n",
        "            nn.ReLU(True),\n",
        "            nn.ConvTranspose2d(64, 3, kernel_size=4, stride=2, padding=1),  # [B, 64, 16, 16] -> [B, 3, 32, 32]\n",
        "            nn.Sigmoid()  # Sigmoid to output values between 0 and 1 for MNIST\n",
        "        )\n",
        "\n",
        "        # Decoder for CIFAR-10\n",
        "        self.decoder_cifar = nn.Sequential(\n",
        "            nn.Linear(512, 256*4*4),  # [B, 512] -> [B, 256*4*4]\n",
        "            nn.ReLU(True),\n",
        "            nn.Unflatten(1, (256, 4, 4)),  # [B, 256*4*4] -> [B, 256, 4, 4]\n",
        "            nn.ConvTranspose2d(256, 128, kernel_size=4, stride=2, padding=1),  # [B, 256, 4, 4] -> [B, 128, 8, 8]\n",
        "            nn.ReLU(True),\n",
        "            nn.ConvTranspose2d(128, 64, kernel_size=4, stride=2, padding=1),  # [B, 128, 8, 8] -> [B, 64, 16, 16]\n",
        "            nn.ReLU(True),\n",
        "            nn.ConvTranspose2d(64, 3, kernel_size=4, stride=2, padding=1),  # [B, 64, 16, 16] -> [B, 3, 32, 32]\n",
        "            nn.Sigmoid()  # Sigmoid to output values between 0 and 1 for CIFAR-10\n",
        "        )\n",
        "\n",
        "    def forward(self, x):\n",
        "        encoded = self.encoder(x)\n",
        "        decoded_mnist = self.decoder_mnist(encoded)\n",
        "        decoded_cifar = self.decoder_cifar(encoded)\n",
        "        return decoded_mnist, decoded_cifar"
      ]
    },
    {
      "cell_type": "code",
      "execution_count": 15,
      "metadata": {
        "id": "Tt-nfxOAoGRp"
      },
      "outputs": [],
      "source": [
        "# Instantiate the model, loss function, and optimizer\n",
        "autoencoder = DualDecoderAutoencoder()\n",
        "criterion = nn.MSELoss()\n",
        "optimizer = optim.Adam(autoencoder.parameters(), lr=0.001)"
      ]
    },
    {
      "cell_type": "code",
      "execution_count": 16,
      "metadata": {
        "id": "8MoBv-asoOsT",
        "colab": {
          "base_uri": "https://localhost:8080/"
        },
        "outputId": "69aabfa1-2acd-4af3-9d6d-4b92166441b6"
      },
      "outputs": [
        {
          "output_type": "stream",
          "name": "stdout",
          "text": [
            "Epoch [1/10], Loss: 0.0361\n",
            "Epoch [2/10], Loss: 0.0225\n",
            "Epoch [3/10], Loss: 0.0216\n",
            "Epoch [4/10], Loss: 0.0190\n",
            "Epoch [5/10], Loss: 0.0164\n",
            "Epoch [6/10], Loss: 0.0158\n",
            "Epoch [7/10], Loss: 0.0144\n",
            "Epoch [8/10], Loss: 0.0156\n",
            "Epoch [9/10], Loss: 0.0143\n",
            "Epoch [10/10], Loss: 0.0146\n"
          ]
        }
      ],
      "source": [
        "# Training loop\n",
        "num_epochs = 10\n",
        "for epoch in range(num_epochs):\n",
        "    for (mnist_images, _), (cifar_images, _) in zip(mnist_loader, cifar_loader):\n",
        "        if mnist_images.size(0) != cifar_images.size(0):\n",
        "            continue  # Skip batches with unequal sizes\n",
        "        # Compute the mean of the MNIST and CIFAR-10 images\n",
        "        mean_images = (mnist_images + cifar_images) / 2\n",
        "\n",
        "        # Forward pass\n",
        "        reconstructed_mnist, reconstructed_cifar = autoencoder(mean_images)\n",
        "\n",
        "        # Compute loss\n",
        "        loss_mnist = criterion(reconstructed_mnist, mnist_images)\n",
        "        loss_cifar = criterion(reconstructed_cifar, cifar_images)\n",
        "        loss = loss_mnist + loss_cifar\n",
        "\n",
        "        # Backward pass and optimization\n",
        "        optimizer.zero_grad()\n",
        "        loss.backward()\n",
        "        optimizer.step()\n",
        "\n",
        "    print(f\"Epoch [{epoch+1}/{num_epochs}], Loss: {loss.item():.4f}\")\n"
      ]
    },
    {
      "cell_type": "code",
      "execution_count": 17,
      "metadata": {
        "id": "R7A3_7oroRIg"
      },
      "outputs": [],
      "source": [
        "# Function to display images\n",
        "def imshow(img, title=None):\n",
        "    npimg = img.numpy()\n",
        "    plt.imshow(np.transpose(npimg, (1, 2, 0)))\n",
        "    if title is not None:\n",
        "        plt.title(title)\n",
        "    plt.show()"
      ]
    },
    {
      "cell_type": "code",
      "execution_count": 18,
      "metadata": {
        "id": "MN5cRXyUoUzC"
      },
      "outputs": [],
      "source": [
        "# Get random images\n",
        "def get_random_images(mnist_dataset, cifar_dataset):\n",
        "    mnist_image, _ = mnist_dataset[np.random.randint(len(mnist_dataset))]\n",
        "    cifar_image, _ = cifar_dataset[np.random.randint(len(cifar_dataset))]\n",
        "    return mnist_image, cifar_image"
      ]
    },
    {
      "cell_type": "markdown",
      "metadata": {
        "id": "fJ6pR1Uboj1S"
      },
      "source": [
        "Mean Image"
      ]
    },
    {
      "cell_type": "code",
      "execution_count": 19,
      "metadata": {
        "id": "VrgfvP-loYSW"
      },
      "outputs": [],
      "source": [
        "mnist_image, cifar_image = get_random_images(mnist_dataset, cifar_dataset)\n",
        "\n",
        "# Compute the mean image\n",
        "mean_image = (mnist_image + cifar_image) / 2\n",
        "\n",
        "# Ensure the mean image is in the correct format\n",
        "mean_image_input = mean_image.unsqueeze(0)  # Add batch dimension"
      ]
    },
    {
      "cell_type": "markdown",
      "metadata": {
        "id": "Jc2W26Gvolaz"
      },
      "source": [
        "Reconstruction"
      ]
    },
    {
      "cell_type": "code",
      "execution_count": 20,
      "metadata": {
        "id": "POfJ39LZocKt",
        "colab": {
          "base_uri": "https://localhost:8080/"
        },
        "outputId": "98cc0cf2-2065-4afb-de09-16ac6782e549"
      },
      "outputs": [
        {
          "output_type": "stream",
          "name": "stdout",
          "text": [
            "Reconstructed MNIST Image shape: torch.Size([1, 3, 32, 32])\n",
            "Reconstructed CIFAR-10 Image shape: torch.Size([1, 3, 32, 32])\n"
          ]
        }
      ],
      "source": [
        "# Get the reconstruction from the autoencoder\n",
        "with torch.no_grad():\n",
        "    reconstructed_mnist, reconstructed_cifar = autoencoder(mean_image_input)\n",
        "\n",
        "# Ensure the shapes are consistent\n",
        "print(\"Reconstructed MNIST Image shape:\", reconstructed_mnist.shape)\n",
        "print(\"Reconstructed CIFAR-10 Image shape:\", reconstructed_cifar.shape)\n",
        "\n",
        "# Remove the batch dimension\n",
        "reconstructed_mnist = reconstructed_mnist.squeeze(0)\n",
        "reconstructed_cifar = reconstructed_cifar.squeeze(0)"
      ]
    },
    {
      "cell_type": "markdown",
      "metadata": {
        "id": "SpFjQhTToqXu"
      },
      "source": [
        "**Display the Original and Reconstructed Images**"
      ]
    },
    {
      "cell_type": "code",
      "execution_count": 21,
      "metadata": {
        "id": "T1MxoUkUovtj",
        "colab": {
          "base_uri": "https://localhost:8080/",
          "height": 1000
        },
        "outputId": "310a7a75-297a-4f3c-b5d1-79b09e637742"
      },
      "outputs": [
        {
          "output_type": "stream",
          "name": "stdout",
          "text": [
            "Original MNIST Image:\n"
          ]
        },
        {
          "output_type": "display_data",
          "data": {
            "text/plain": [
              "<Figure size 640x480 with 1 Axes>"
            ],
            "image/png": "[encoded data removed]"
          },
          "metadata": {}
        },
        {
          "output_type": "stream",
          "name": "stdout",
          "text": [
            "Original CIFAR-10 Image:\n"
          ]
        },
        {
          "output_type": "display_data",
          "data": {
            "text/plain": [
              "<Figure size 640x480 with 1 Axes>"
            ],
            "image/png": "[encoded data removed]"
          },
          "metadata": {}
        },
        {
          "output_type": "stream",
          "name": "stdout",
          "text": [
            "Mean Image:\n"
          ]
        },
        {
          "output_type": "display_data",
          "data": {
            "text/plain": [
              "<Figure size 640x480 with 1 Axes>"
            ],
            "image/png": "[encoded data removed]"
          },
          "metadata": {}
        },
        {
          "output_type": "stream",
          "name": "stdout",
          "text": [
            "Reconstructed MNIST Image:\n"
          ]
        },
        {
          "output_type": "display_data",
          "data": {
            "text/plain": [
              "<Figure size 640x480 with 1 Axes>"
            ],
            "image/png": "[encoded data removed]"
          },
          "metadata": {}
        },
        {
          "output_type": "stream",
          "name": "stdout",
          "text": [
            "Reconstructed CIFAR-10 Image:\n"
          ]
        },
        {
          "output_type": "display_data",
          "data": {
            "text/plain": [
              "<Figure size 640x480 with 1 Axes>"
            ],
            "image/png": "[encoded data removed]"
          },
          "metadata": {}
        }
      ],
      "source": [
        "# Display the original images\n",
        "print(\"Original MNIST Image:\")\n",
        "imshow(mnist_image, \"Original MNIST Image\")\n",
        "\n",
        "print(\"Original CIFAR-10 Image:\")\n",
        "imshow(cifar_image, \"Original CIFAR-10 Image\")\n",
        "\n",
        "# Display the mean image and its reconstruction\n",
        "print(\"Mean Image:\")\n",
        "imshow(mean_image, \"Mean Image\")\n",
        "\n",
        "print(\"Reconstructed MNIST Image:\")\n",
        "imshow(reconstructed_mnist, \"Reconstructed MNIST Image\")\n",
        "\n",
        "print(\"Reconstructed CIFAR-10 Image:\")\n",
        "imshow(reconstructed_cifar, \"Reconstructed CIFAR-10 Image\")\n"
      ]
    },
    {
      "cell_type": "markdown",
      "metadata": {
        "id": "QhOKcLKwoygv"
      },
      "source": [
        "SSIM and PSNR"
      ]
    },
    {
      "cell_type": "code",
      "execution_count": 22,
      "metadata": {
        "id": "56xVSD4AozWh",
        "colab": {
          "base_uri": "https://localhost:8080/"
        },
        "outputId": "82829d82-7582-4a96-8931-e43f168e9d2c"
      },
      "outputs": [
        {
          "output_type": "stream",
          "name": "stdout",
          "text": [
            "SSIM (MNIST): 0.9380\n",
            "SSIM (CIFAR-10): 0.2776\n",
            "PSNR (MNIST): 27.45 dB\n",
            "PSNR (CIFAR-10): 20.15 dB\n"
          ]
        }
      ],
      "source": [
        "# Convert images to numpy arrays for SSIM and PSNR computation\n",
        "original_mnist_np = mnist_image.numpy()\n",
        "original_cifar_np = cifar_image.numpy()\n",
        "reconstructed_mnist_np = reconstructed_mnist.numpy()\n",
        "reconstructed_cifar_np = reconstructed_cifar.numpy()\n",
        "\n",
        "# Compute SSIM and PSNR\n",
        "ssim_mnist = ssim(original_mnist_np.transpose(1, 2, 0), reconstructed_mnist_np.transpose(1, 2, 0), win_size=3, channel_axis=-1, data_range=1)\n",
        "ssim_cifar = ssim(original_cifar_np.transpose(1, 2, 0), reconstructed_cifar_np.transpose(1, 2, 0), win_size=3, channel_axis=-1, data_range=1)\n",
        "psnr_mnist = psnr(original_mnist_np, reconstructed_mnist_np, data_range=1)\n",
        "psnr_cifar = psnr(original_cifar_np, reconstructed_cifar_np, data_range=1)\n",
        "\n",
        "print(f\"SSIM (MNIST): {ssim_mnist:.4f}\")\n",
        "print(f\"SSIM (CIFAR-10): {ssim_cifar:.4f}\")\n",
        "print(f\"PSNR (MNIST): {psnr_mnist:.2f} dB\")\n",
        "print(f\"PSNR (CIFAR-10): {psnr_cifar:.2f} dB\")"
      ]
    }
  ],
  "metadata": {
    "colab": {
      "provenance": []
    },
    "kaggle": {
      "accelerator": "gpu",
      "dataSources": [],
      "dockerImageVersionId": 30699,
      "isGpuEnabled": true,
      "isInternetEnabled": true,
      "language": "python",
      "sourceType": "notebook"
    },
    "kernelspec": {
      "display_name": "Python 3",
      "language": "python",
      "name": "python3"
    },
    "language_info": {
      "codemirror_mode": {
        "name": "ipython",
        "version": 3
      },
      "file_extension": ".py",
      "mimetype": "text/x-python",
      "name": "python",
      "nbconvert_exporter": "python",
      "pygments_lexer": "ipython3",
      "version": "3.10.13"
    }
  },
  "nbformat": 4,
  "nbformat_minor": 0
}