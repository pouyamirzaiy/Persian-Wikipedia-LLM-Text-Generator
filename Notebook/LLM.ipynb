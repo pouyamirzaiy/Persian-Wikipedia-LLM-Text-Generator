{
  "cells": [
    {
      "cell_type": "code",
      "execution_count": 20,
      "metadata": {
        "id": "reX6OMas3_DA"
      },
      "outputs": [],
      "source": [
        "import torch\n",
        "import torch.nn as nn\n",
        "import torch.optim as optim\n",
        "from torch.utils.data import DataLoader, Dataset\n",
        "from transformers import BertTokenizer, BertForMaskedLM, AdamW, get_linear_schedule_with_warmup\n",
        "from torch.cuda.amp import GradScaler, autocast\n",
        "import requests\n",
        "from bs4 import BeautifulSoup\n",
        "#!pip install datasets\n",
        "from datasets import load_metric"
      ]
    },
    {
      "cell_type": "markdown",
      "metadata": {
        "id": "xJndi8B75IFG"
      },
      "source": [
        "Defining the Persian Wikipedia Dataset"
      ]
    },
    {
      "cell_type": "code",
      "execution_count": 21,
      "metadata": {
        "id": "tYisUlMT5KHO"
      },
      "outputs": [],
      "source": [
        "class PersianWikipediaDataset(Dataset):\n",
        "    def __init__(self, num_articles):\n",
        "        self.articles = self.load_articles(num_articles)\n",
        "\n",
        "    def __len__(self):\n",
        "        return len(self.articles)\n",
        "\n",
        "    def __getitem__(self, idx):\n",
        "        return self.articles[idx]\n",
        "\n",
        "    def load_articles(self, num_articles):\n",
        "        articles = []\n",
        "        error_count = 0\n",
        "        max_errors = 10\n",
        "\n",
        "        while len(articles) < num_articles:\n",
        "            try:\n",
        "                article = self.fetch_random_article()\n",
        "                articles.append(article)\n",
        "                error_count = 0\n",
        "            except Exception as e:\n",
        "                error_count += 1\n",
        "                if error_count >= max_errors:\n",
        "                    print(f\"Reached maximum consecutive errors ({max_errors}). Stopping article loading.\")\n",
        "                    break\n",
        "                print(f\"Error loading article: {str(e)}\")\n",
        "\n",
        "        return articles\n",
        "\n",
        "    def fetch_random_article(self):\n",
        "        url = 'https://fa.wikipedia.org/w/api.php?action=query&format=json&list=random&rnnamespace=0&rnlimit=1'\n",
        "        response = requests.get(url)\n",
        "        data = response.json()\n",
        "        random_article_title = data['query']['random'][0]['title']\n",
        "\n",
        "        article_url = f'https://fa.wikipedia.org/wiki/{random_article_title}'\n",
        "        article_response = requests.get(article_url)\n",
        "        article_content = article_response.text\n",
        "\n",
        "        # Clean the article content\n",
        "        soup = BeautifulSoup(article_content, 'html.parser')\n",
        "        article_content = soup.get_text()\n",
        "\n",
        "        return article_content\n"
      ]
    },
    {
      "cell_type": "markdown",
      "metadata": {
        "id": "I0ulydXy5Lm5"
      },
      "source": [
        "Initializing the tokenizer and defining the text generation model"
      ]
    },
    {
      "cell_type": "code",
      "execution_count": 22,
      "metadata": {
        "colab": {
          "base_uri": "https://localhost:8080/"
        },
        "id": "aNqvO0D25PYh",
        "outputId": "7efbf1df-fb6c-4d33-d8d0-81608aa5aa57"
      },
      "outputs": [
        {
          "output_type": "stream",
          "name": "stderr",
          "text": [
            "Some weights of the model checkpoint at bert-base-multilingual-cased were not used when initializing BertForMaskedLM: ['bert.pooler.dense.bias', 'bert.pooler.dense.weight', 'cls.seq_relationship.bias', 'cls.seq_relationship.weight']\n",
            "- This IS expected if you are initializing BertForMaskedLM from the checkpoint of a model trained on another task or with another architecture (e.g. initializing a BertForSequenceClassification model from a BertForPreTraining model).\n",
            "- This IS NOT expected if you are initializing BertForMaskedLM from the checkpoint of a model that you expect to be exactly identical (initializing a BertForSequenceClassification model from a BertForSequenceClassification model).\n"
          ]
        }
      ],
      "source": [
        "tokenizer = BertTokenizer.from_pretrained('bert-base-multilingual-cased')\n",
        "model = BertForMaskedLM.from_pretrained('bert-base-multilingual-cased')"
      ]
    },
    {
      "cell_type": "markdown",
      "metadata": {
        "id": "tjmJOYcK5Rl_"
      },
      "source": [
        "Pre-training the model"
      ]
    },
    {
      "cell_type": "code",
      "execution_count": 23,
      "metadata": {
        "id": "B-aZV0ZT8OdX"
      },
      "outputs": [],
      "source": [
        "# Define the text generation model\n",
        "class TextGenerator(nn.Module):\n",
        "    def __init__(self, vocab_size, embedding_dim, hidden_dim, num_layers):\n",
        "        super(TextGenerator, self).__init__()\n",
        "        self.embedding = nn.Embedding(vocab_size, embedding_dim)\n",
        "        self.lstm = nn.LSTM(embedding_dim, hidden_dim, num_layers, batch_first=True)\n",
        "        self.fc = nn.Linear(hidden_dim, vocab_size)\n",
        "\n",
        "    def forward(self, x, hidden):\n",
        "        embedded = self.embedding(x)\n",
        "        output, hidden = self.lstm(embedded, hidden)\n",
        "        output = self.fc(output)\n",
        "        return output, hidden\n"
      ]
    },
    {
      "cell_type": "code",
      "execution_count": 24,
      "metadata": {
        "id": "PjKgtXpC5Uhd"
      },
      "outputs": [],
      "source": [
        "def pretrain_model(model, dataset, tokenizer, num_epochs=3):\n",
        "    device = torch.device('cuda' if torch.cuda.is_available() else 'cpu')\n",
        "    model.to(device)\n",
        "\n",
        "    data_loader = DataLoader(dataset, batch_size=8, shuffle=True, collate_fn=lambda x: tokenizer(x, return_tensors=\"pt\", padding=True, truncation=True))\n",
        "    criterion = nn.CrossEntropyLoss()\n",
        "    optimizer = AdamW(model.parameters(), lr=0.001)\n",
        "    scaler = GradScaler()\n",
        "\n",
        "    # Add learning rate scheduler\n",
        "    scheduler = get_linear_schedule_with_warmup(optimizer, num_warmup_steps=0, num_training_steps=len(data_loader)*num_epochs)\n",
        "\n",
        "    model.train()\n",
        "    for epoch in range(num_epochs):\n",
        "        total_loss = 0\n",
        "        for batch in data_loader:\n",
        "            inputs = batch['input_ids'].to(device)\n",
        "            targets = batch['input_ids'].to(device)\n",
        "\n",
        "            optimizer.zero_grad()\n",
        "            hidden = (torch.zeros(num_layers, inputs.size(0), hidden_dim).to(device),\n",
        "                      torch.zeros(num_layers, inputs.size(0), hidden_dim).to(device))\n",
        "\n",
        "            inputs = inputs[:, :-1]\n",
        "            targets = targets[:, 1:].reshape(-1)\n",
        "\n",
        "            with autocast():\n",
        "                output, hidden = model(inputs, hidden)\n",
        "                output = output.view(-1, vocab_size)\n",
        "                loss = criterion(output, targets)\n",
        "\n",
        "            scaler.scale(loss).backward()\n",
        "            scaler.step(optimizer)\n",
        "            scaler.update()\n",
        "\n",
        "            # Update the learning rate\n",
        "            scheduler.step()\n",
        "\n",
        "            total_loss += loss.item()\n",
        "\n",
        "        print(f'Epoch {epoch+1}/{num_epochs}, Loss: {total_loss/len(data_loader)}')\n",
        "\n",
        "    torch.save(model.state_dict(), 'pretrained_text_generator.pth')"
      ]
    },
    {
      "cell_type": "markdown",
      "metadata": {
        "id": "oINLPw4G5WuN"
      },
      "source": [
        "Fine-tuning the model"
      ]
    },
    {
      "cell_type": "code",
      "execution_count": 25,
      "metadata": {
        "id": "Rrtmo3nI5ZQO"
      },
      "outputs": [],
      "source": [
        "def finetune_model(model, dataset, tokenizer, num_epochs=10):\n",
        "    device = torch.device('cuda' if torch.cuda.is_available() else 'cpu')\n",
        "    model.to(device)\n",
        "\n",
        "    data_loader = DataLoader(dataset, batch_size=4, shuffle=True, collate_fn=lambda x: tokenizer(x, return_tensors=\"pt\", padding=True, truncation=True))\n",
        "    criterion = nn.CrossEntropyLoss()\n",
        "    optimizer = AdamW(model.parameters(), lr=0.001)\n",
        "    scaler = GradScaler()\n",
        "\n",
        "    model.train()\n",
        "    for epoch in range(num_epochs):\n",
        "        total_loss = 0\n",
        "        for batch in data_loader:\n",
        "            inputs = batch['input_ids'].to(device)\n",
        "            targets = batch['input_ids'].to(device)\n",
        "\n",
        "            optimizer.zero_grad()\n",
        "            hidden = (torch.zeros(num_layers, inputs.size(0), hidden_dim).to(device),\n",
        "                      torch.zeros(num_layers, inputs.size(0), hidden_dim).to(device))\n",
        "\n",
        "            inputs = inputs[:, :-1]\n",
        "            targets = targets[:, 1:].reshape(-1)\n",
        "\n",
        "            with autocast():\n",
        "                output, hidden = model(inputs, hidden)\n",
        "                output = output.view(-1, vocab_size)\n",
        "                loss = criterion(output, targets)\n",
        "\n",
        "            scaler.scale(loss).backward()\n",
        "            scaler.step(optimizer)\n",
        "            scaler.update()\n",
        "\n",
        "            total_loss += loss.item()\n",
        "\n",
        "        print(f'Epoch {epoch+1}/{num_epochs}, Loss: {total_loss/len(data_loader)}')\n",
        "\n",
        "    torch.save(model.state_dict(), 'finetuned_text_generator.pth')"
      ]
    },
    {
      "cell_type": "markdown",
      "metadata": {
        "id": "I-MmZvRK5b9V"
      },
      "source": [
        "Evaluating the model"
      ]
    },
    {
      "cell_type": "code",
      "execution_count": 32,
      "metadata": {
        "id": "JGswmh9O5d7i"
      },
      "outputs": [],
      "source": [
        "def evaluate_model(model, dataset, tokenizer, device):\n",
        "    model.eval()\n",
        "    criterion = nn.CrossEntropyLoss(ignore_index=tokenizer.pad_token_id)\n",
        "\n",
        "    data_loader = DataLoader(dataset, batch_size=4, shuffle=True, collate_fn=lambda x: tokenizer(x, return_tensors=\"pt\", padding=True, truncation=True))\n",
        "\n",
        "    total_loss = 0\n",
        "    total_tokens = 0\n",
        "    rouge_metric = load_metric(\"rouge\")\n",
        "    bleu_metric = load_metric(\"bleu\")\n",
        "    # Add METEOR and CIDEr metrics\n",
        "    meteor_metric = load_metric(\"meteor\")\n",
        "    #cider_metric = load_metric(\"cider\")\n",
        "\n",
        "    with torch.no_grad():\n",
        "        for batch in data_loader:\n",
        "            inputs = batch['input_ids'].to(device)\n",
        "            targets = batch['input_ids'].to(device)\n",
        "\n",
        "            hidden = (torch.zeros(num_layers, inputs.size(0), hidden_dim).to(device),\n",
        "                      torch.zeros(num_layers, inputs.size(0), hidden_dim).to(device))\n",
        "\n",
        "            inputs = inputs[:, :-1]\n",
        "            targets = targets[:, 1:].reshape(-1)\n",
        "\n",
        "            with autocast():\n",
        "                output, hidden = model(inputs, hidden)\n",
        "                output = output.view(-1, vocab_size)\n",
        "                loss = criterion(output, targets)\n",
        "\n",
        "            total_loss += loss.item() * targets.size(0)\n",
        "            total_tokens += targets.size(0)\n",
        "\n",
        "            generated_texts = tokenizer.batch_decode(torch.argmax(output, dim=-1), skip_special_tokens=True)\n",
        "            reference_texts = tokenizer.batch_decode(targets, skip_special_tokens=True)\n",
        "\n",
        "            rouge_metric.add_batch(predictions=generated_texts, references=reference_texts)\n",
        "            bleu_metric.add_batch(predictions=[text.split() for text in generated_texts], references=[[text.split()] for text in reference_texts])\n",
        "            # Update METEOR and CIDEr metrics\n",
        "            meteor_metric.add_batch(predictions=generated_texts, references=reference_texts)\n",
        "            #cider_metric.add_batch(predictions=[text.split() for text in generated_texts], references=[[text.split()] for text in reference_texts])\n",
        "\n",
        "    perplexity = torch.exp(torch.tensor(total_loss / total_tokens))\n",
        "    rouge_results = rouge_metric.compute()\n",
        "    bleu_results = bleu_metric.compute()\n",
        "    # Compute METEOR and CIDEr results\n",
        "    meteor_results = meteor_metric.compute()\n",
        "    #cider_results = cider_metric.compute()\n",
        "\n",
        "    return perplexity, rouge_results, bleu_results, meteor_results#, cider_results"
      ]
    },
    {
      "cell_type": "markdown",
      "metadata": {
        "id": "PF95mbkQ5f3D"
      },
      "source": [
        "Running the model"
      ]
    },
    {
      "cell_type": "code",
      "execution_count": 27,
      "metadata": {
        "id": "lTufSSbl5js8"
      },
      "outputs": [],
      "source": [
        "# Parameters\n",
        "embedding_dim = 64\n",
        "hidden_dim = 128\n",
        "num_layers = 1\n",
        "vocab_size = tokenizer.vocab_size\n",
        "\n",
        "# Initialize the model\n",
        "model = TextGenerator(vocab_size, embedding_dim, hidden_dim, num_layers)\n",
        "\n",
        "# Create the dataset\n",
        "num_articles = 200\n",
        "dataset = PersianWikipediaDataset(num_articles=num_articles)\n",
        "\n",
        "# Pre-train the model on a larger corpus (using Persian Wikipedia dataset as a placeholder)\n",
        "#pretrain_model(model, dataset, tokenizer, num_epochs=3)\n",
        "\n",
        "# Fine-tune the model on the Persian Wikipedia dataset\n",
        "#finetune_model(model, dataset, tokenizer, num_epochs=10)\n",
        "\n",
        "# Evaluate the model\n",
        "#device = torch.device('cuda' if torch.cuda.is_available() else 'cpu')\n",
        "#perplexity, rouge_results, bleu_results, meteor_results, cider_results = evaluate_model(model, dataset, tokenizer, device)\n",
        "\n",
        "#print(f'Perplexity: {perplexity}')\n",
        "#print(f'ROUGE Results: {rouge_results}')\n",
        "#print(f'BLEU Results: {bleu_results}')\n",
        "#print(f'METEOR Results: {meteor_results}')\n",
        "#print(f'CIDEr Results: {cider_results}')"
      ]
    },
    {
      "cell_type": "code",
      "execution_count": 28,
      "metadata": {
        "colab": {
          "base_uri": "https://localhost:8080/"
        },
        "id": "9Ht25ZKmCJID",
        "outputId": "2fc78f70-0477-4767-f1c5-d2244b454d16"
      },
      "outputs": [
        {
          "metadata": {
            "tags": null
          },
          "name": "stderr",
          "output_type": "stream",
          "text": [
            "/usr/local/lib/python3.10/dist-packages/transformers/optimization.py:588: FutureWarning: This implementation of AdamW is deprecated and will be removed in a future version. Use the PyTorch implementation torch.optim.AdamW instead, or set `no_deprecation_warning=True` to disable this warning\n",
            "  warnings.warn(\n",
            "/usr/local/lib/python3.10/dist-packages/torch/amp/grad_scaler.py:131: UserWarning: torch.cuda.amp.GradScaler is enabled, but CUDA is not available.  Disabling.\n",
            "  warnings.warn(\n",
            "/usr/local/lib/python3.10/dist-packages/torch/amp/autocast_mode.py:250: UserWarning: User provided device_type of 'cuda', but CUDA is not available. Disabling\n",
            "  warnings.warn(\n"
          ]
        },
        {
          "output_type": "stream",
          "name": "stdout",
          "text": [
            "Epoch 1/3, Loss: 11.530370559692383\n",
            "Epoch 2/3, Loss: 10.26057933807373\n",
            "Epoch 3/3, Loss: 8.429941368103027\n",
            "Epoch 1/10, Loss: 6.623826608657837\n",
            "Epoch 2/10, Loss: 5.595525150299072\n",
            "Epoch 3/10, Loss: 4.884409608840943\n",
            "Epoch 4/10, Loss: 4.129149875640869\n",
            "Epoch 5/10, Loss: 3.5287521648406983\n",
            "Epoch 6/10, Loss: 3.1546111249923707\n",
            "Epoch 7/10, Loss: 2.921341004371643\n",
            "Epoch 8/10, Loss: 2.7563712930679323\n",
            "Epoch 9/10, Loss: 2.6267275047302245\n",
            "Epoch 10/10, Loss: 2.518162579536438\n"
          ]
        }
      ],
      "source": [
        "# Pre-train the model on a larger corpus (using Persian Wikipedia dataset as a placeholder)\n",
        "pretrain_model(model, dataset, tokenizer, num_epochs=3)\n",
        "\n",
        "# Fine-tune the model on the Persian Wikipedia dataset\n",
        "finetune_model(model, dataset, tokenizer, num_epochs=10)"
      ]
    },
    {
      "cell_type": "code",
      "execution_count": 33,
      "metadata": {
        "colab": {
          "base_uri": "https://localhost:8080/"
        },
        "id": "zotGWEvcBqz5",
        "outputId": "712ea201-cbf6-46c4-ce6a-a9fc3bf04715"
      },
      "outputs": [
        {
          "output_type": "stream",
          "name": "stderr",
          "text": [
            "[nltk_data] Downloading package wordnet to /root/nltk_data...\n",
            "[nltk_data]   Package wordnet is already up-to-date!\n",
            "[nltk_data] Downloading package punkt to /root/nltk_data...\n",
            "[nltk_data]   Package punkt is already up-to-date!\n",
            "[nltk_data] Downloading package omw-1.4 to /root/nltk_data...\n",
            "[nltk_data]   Package omw-1.4 is already up-to-date!\n",
            "/usr/local/lib/python3.10/dist-packages/torch/amp/autocast_mode.py:250: UserWarning: User provided device_type of 'cuda', but CUDA is not available. Disabling\n",
            "  warnings.warn(\n"
          ]
        },
        {
          "output_type": "stream",
          "name": "stdout",
          "text": [
            "Perplexity: 11.513700485229492\n",
            "ROUGE Results: {'rouge1': AggregateScore(low=Score(precision=0.05432768323082657, recall=0.05399677511415525, fmeasure=0.05400964306540386), mid=Score(precision=0.055660046438666747, recall=0.055321378094616847, fmeasure=0.05533075535032485), high=Score(precision=0.056986855255800904, recall=0.05662715050632124, fmeasure=0.05665212539146009)), 'rouge2': AggregateScore(low=Score(precision=0.03656772871819963, recall=0.03648397749510766, fmeasure=0.036498931833007196), mid=Score(precision=0.03767408675799089, recall=0.03759540117416833, fmeasure=0.03761301369863016), high=Score(precision=0.03879327707110243, recall=0.03870201402478802, fmeasure=0.03872027071102418)), 'rougeL': AggregateScore(low=Score(precision=0.05422386776628455, recall=0.053941575614263944, fmeasure=0.05392712986757753), mid=Score(precision=0.05568203103159068, recall=0.0553311317677756, fmeasure=0.05534343610835784), high=Score(precision=0.0570960616438356, recall=0.05669790462988845, fmeasure=0.05671740458117664)), 'rougeLsum': AggregateScore(low=Score(precision=0.05427232705867731, recall=0.053948793798341214, fmeasure=0.053941324257933826), mid=Score(precision=0.05565226912682878, recall=0.05531690118969962, fmeasure=0.05532169127350151), high=Score(precision=0.05706366465535978, recall=0.05673843323859219, fmeasure=0.056737877492696535))}\n",
            "BLEU Results: {'bleu': 0.7297149164272765, 'precisions': [0.8119027835479851, 0.8421475102540784, 0.8299489089019744, 0.8625008611780917], 'brevity_penalty': 0.8724236903585866, 'length_ratio': 0.8799098278254271, 'translation_length': 317724, 'reference_length': 361087}\n"
          ]
        }
      ],
      "source": [
        "# Evaluate the model\n",
        "device = torch.device('cuda' if torch.cuda.is_available() else 'cpu')\n",
        "perplexity, rouge_results, bleu_results, meteor_results = evaluate_model(model, dataset, tokenizer, device)\n",
        "\n",
        "print(f'Perplexity: {perplexity}')\n",
        "print(f'ROUGE Results: {rouge_results}')\n",
        "print(f'BLEU Results: {bleu_results}')"
      ]
    },
    {
      "cell_type": "code",
      "execution_count": 30,
      "metadata": {
        "colab": {
          "base_uri": "https://localhost:8080/"
        },
        "id": "nR1hPNSHYZFR",
        "outputId": "3c009abd-9750-46ab-9472-d7bd11bcb690"
      },
      "outputs": [
        {
          "output_type": "stream",
          "name": "stdout",
          "text": [
            "Collecting rouge_score\n",
            "  Downloading rouge_score-0.1.2.tar.gz (17 kB)\n",
            "  Preparing metadata (setup.py) ... \u001b[?25l\u001b[?25hdone\n",
            "Requirement already satisfied: absl-py in /usr/local/lib/python3.10/dist-packages (from rouge_score) (1.4.0)\n",
            "Requirement already satisfied: nltk in /usr/local/lib/python3.10/dist-packages (from rouge_score) (3.8.1)\n",
            "Requirement already satisfied: numpy in /usr/local/lib/python3.10/dist-packages (from rouge_score) (1.25.2)\n",
            "Requirement already satisfied: six>=1.14.0 in /usr/local/lib/python3.10/dist-packages (from rouge_score) (1.16.0)\n",
            "Requirement already satisfied: click in /usr/local/lib/python3.10/dist-packages (from nltk->rouge_score) (8.1.7)\n",
            "Requirement already satisfied: joblib in /usr/local/lib/python3.10/dist-packages (from nltk->rouge_score) (1.4.2)\n",
            "Requirement already satisfied: regex>=2021.8.3 in /usr/local/lib/python3.10/dist-packages (from nltk->rouge_score) (2024.5.15)\n",
            "Requirement already satisfied: tqdm in /usr/local/lib/python3.10/dist-packages (from nltk->rouge_score) (4.66.4)\n",
            "Building wheels for collected packages: rouge_score\n",
            "  Building wheel for rouge_score (setup.py) ... \u001b[?25l\u001b[?25hdone\n",
            "  Created wheel for rouge_score: filename=rouge_score-0.1.2-py3-none-any.whl size=24933 sha256=307000e5b67bdbe5afc6331a0db22e53d703843429dff784b3c1c586466ad214\n",
            "  Stored in directory: /root/.cache/pip/wheels/5f/dd/89/461065a73be61a532ff8599a28e9beef17985c9e9c31e541b4\n",
            "Successfully built rouge_score\n",
            "Installing collected packages: rouge_score\n",
            "Successfully installed rouge_score-0.1.2\n"
          ]
        }
      ],
      "source": [
        "!pip install rouge_score"
      ]
    },
    {
      "cell_type": "code",
      "execution_count": 34,
      "metadata": {
        "id": "zLd29A9QX1wz",
        "colab": {
          "base_uri": "https://localhost:8080/"
        },
        "outputId": "f82eecef-3c9b-47bb-b34d-b43d3679fca5"
      },
      "outputs": [
        {
          "output_type": "stream",
          "name": "stdout",
          "text": [
            "Perplexity: 11.513700485229492\n",
            "ROUGE Results: {'rouge1': AggregateScore(low=Score(precision=0.05432768323082657, recall=0.05399677511415525, fmeasure=0.05400964306540386), mid=Score(precision=0.055660046438666747, recall=0.055321378094616847, fmeasure=0.05533075535032485), high=Score(precision=0.056986855255800904, recall=0.05662715050632124, fmeasure=0.05665212539146009)), 'rouge2': AggregateScore(low=Score(precision=0.03656772871819963, recall=0.03648397749510766, fmeasure=0.036498931833007196), mid=Score(precision=0.03767408675799089, recall=0.03759540117416833, fmeasure=0.03761301369863016), high=Score(precision=0.03879327707110243, recall=0.03870201402478802, fmeasure=0.03872027071102418)), 'rougeL': AggregateScore(low=Score(precision=0.05422386776628455, recall=0.053941575614263944, fmeasure=0.05392712986757753), mid=Score(precision=0.05568203103159068, recall=0.0553311317677756, fmeasure=0.05534343610835784), high=Score(precision=0.0570960616438356, recall=0.05669790462988845, fmeasure=0.05671740458117664)), 'rougeLsum': AggregateScore(low=Score(precision=0.05427232705867731, recall=0.053948793798341214, fmeasure=0.053941324257933826), mid=Score(precision=0.05565226912682878, recall=0.05531690118969962, fmeasure=0.05532169127350151), high=Score(precision=0.05706366465535978, recall=0.05673843323859219, fmeasure=0.056737877492696535))}\n",
            "BLEU Results: {'bleu': 0.7297149164272765, 'precisions': [0.8119027835479851, 0.8421475102540784, 0.8299489089019744, 0.8625008611780917], 'brevity_penalty': 0.8724236903585866, 'length_ratio': 0.8799098278254271, 'translation_length': 317724, 'reference_length': 361087}\n",
            "METEOR Results: {'meteor': 0.6435744169577335}\n"
          ]
        }
      ],
      "source": [
        "print(f'Perplexity: {perplexity}')\n",
        "print(f'ROUGE Results: {rouge_results}')\n",
        "print(f'BLEU Results: {bleu_results}')\n",
        "print(f'METEOR Results: {meteor_results}')"
      ]
    }
  ],
  "metadata": {
    "colab": {
      "provenance": []
    },
    "kernelspec": {
      "display_name": "Python 3",
      "name": "python3"
    },
    "language_info": {
      "name": "python"
    }
  },
  "nbformat": 4,
  "nbformat_minor": 0
}